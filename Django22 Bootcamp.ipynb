{
 "cells": [
  {
   "cell_type": "code",
   "execution_count": 2,
   "metadata": {},
   "outputs": [
    {
     "name": "stdout",
     "output_type": "stream",
     "text": [
      "Hello my name is Henry and I amd 21 years old\n"
     ]
    }
   ],
   "source": [
    "# Django 2.2 and Python, The ultimate Web Dev Bootcamp.\n",
    "# by: Nick Walter\n",
    "\n",
    "age = 21\n",
    "name = 'Henry'\n",
    "print(\"Hello my name is {} and I amd {} years old\".format(name, age))"
   ]
  },
  {
   "cell_type": "code",
   "execution_count": 6,
   "metadata": {},
   "outputs": [
    {
     "name": "stdout",
     "output_type": "stream",
     "text": [
      "You can't drive\n"
     ]
    }
   ],
   "source": [
    "# if statements\n",
    "\n",
    "age = 12\n",
    "\n",
    "if age > 18:\n",
    "    print(\"You can drive\")\n",
    "else:\n",
    "    print(\"You can't drive\")"
   ]
  },
  {
   "cell_type": "code",
   "execution_count": 10,
   "metadata": {},
   "outputs": [
    {
     "name": "stdout",
     "output_type": "stream",
     "text": [
      "Welcome guest\n"
     ]
    }
   ],
   "source": [
    "# if statements with\n",
    "\n",
    "name = 'henry'\n",
    "\n",
    "if name == 'Henry':                # this is case sensitive\n",
    "    print(\"Welcome back: Henry\")\n",
    "else:\n",
    "    print(\"Welcome guest\")"
   ]
  },
  {
   "cell_type": "code",
   "execution_count": 14,
   "metadata": {},
   "outputs": [
    {
     "name": "stdout",
     "output_type": "stream",
     "text": [
      "What is 4 + 5 ? 9\n",
      "Correct !\n"
     ]
    }
   ],
   "source": [
    "# if statements with math problem\n",
    "\n",
    "question = str(input('What is 4 + 5 ? '))\n",
    "answer = 9\n",
    "\n",
    "if answer == 9:      \n",
    "    print(\"Correct !\")\n",
    "else:\n",
    "    print(\"Try again...\")"
   ]
  },
  {
   "cell_type": "code",
   "execution_count": 16,
   "metadata": {},
   "outputs": [
    {
     "name": "stdout",
     "output_type": "stream",
     "text": [
      "How are you today?\n"
     ]
    }
   ],
   "source": [
    "# Functions\n",
    "\n",
    "def hello():\n",
    "    print(\"How are you today?\")\n",
    "hello()    "
   ]
  },
  {
   "cell_type": "code",
   "execution_count": 19,
   "metadata": {},
   "outputs": [
    {
     "name": "stdout",
     "output_type": "stream",
     "text": [
      "Hello Mike you are 50 years old\n"
     ]
    }
   ],
   "source": [
    "age = 21\n",
    "name = 'Matt'\n",
    "\n",
    "def hello2(name=\"Mike\", age=50):\n",
    "    return \"Hello {} you are {} years old\".format(name, age)\n",
    "\n",
    "x = hello2()\n",
    "\n",
    "print(x)"
   ]
  },
  {
   "cell_type": "code",
   "execution_count": 33,
   "metadata": {},
   "outputs": [
    {
     "name": "stdout",
     "output_type": "stream",
     "text": [
      "['alpha', 'bravo', 'charlie', 'delta']\n",
      "charlie\n"
     ]
    }
   ],
   "source": [
    "# Lists and list position\n",
    "\n",
    "dognames = ['alpha', 'bravo', 'charlie', 'delta']\n",
    "\n",
    "print(dognames)\n",
    "print(dognames[2])"
   ]
  },
  {
   "cell_type": "code",
   "execution_count": 24,
   "metadata": {},
   "outputs": [
    {
     "name": "stdout",
     "output_type": "stream",
     "text": [
      "Fido\n",
      "Sean\n",
      "Sally\n",
      "Mark\n"
     ]
    }
   ],
   "source": [
    "# loops\n",
    "\n",
    "dognames = ['Fido', 'Sean', 'Sally', 'Mark']\n",
    "\n",
    "for dog in dognames:\n",
    "    print(dog)"
   ]
  },
  {
   "cell_type": "code",
   "execution_count": 27,
   "metadata": {},
   "outputs": [
    {
     "name": "stdout",
     "output_type": "stream",
     "text": [
      "1\n",
      "2\n",
      "3\n",
      "4\n"
     ]
    }
   ],
   "source": [
    "# loops 2\n",
    "\n",
    "for x in range(1,5):\n",
    "    print(x)"
   ]
  },
  {
   "cell_type": "code",
   "execution_count": 32,
   "metadata": {},
   "outputs": [
    {
     "name": "stdout",
     "output_type": "stream",
     "text": [
      "Happy 0 Birthday\n",
      "Happy 1 Birthday\n",
      "Happy 2 Birthday\n",
      "Happy 3 Birthday\n",
      "Happy 4 Birthday\n",
      "Happy 5 Birthday\n",
      "Happy 6 Birthday\n",
      "Happy 7 Birthday\n",
      "Happy 8 Birthday\n",
      "Happy 9 Birthday\n",
      "Happy 10 Birthday\n",
      "Happy 11 Birthday\n",
      "Happy 12 Birthday\n",
      "Happy 13 Birthday\n",
      "Happy 14 Birthday\n",
      "Happy 15 Birthday\n",
      "Happy 16 Birthday\n",
      "Happy 17 Birthday\n",
      "Happy 18 Birthday\n"
     ]
    }
   ],
   "source": [
    "# while\n",
    "\n",
    "age = 0\n",
    "\n",
    "while age <= 18:\n",
    "    print(\"Happy \"+ str(age) + \" Birthday\")\n",
    "    age = age+1\n",
    "    "
   ]
  },
  {
   "cell_type": "code",
   "execution_count": 37,
   "metadata": {},
   "outputs": [
    {
     "name": "stdout",
     "output_type": "stream",
     "text": [
      "17\n"
     ]
    }
   ],
   "source": [
    "# dictionary {}\n",
    "\n",
    "dogs = {\"fido\":8, \"sally\":17, \"sean\": 2}\n",
    "print(dogs[\"sally\"])\n"
   ]
  },
  {
   "cell_type": "code",
   "execution_count": 42,
   "metadata": {},
   "outputs": [
    {
     "name": "stdout",
     "output_type": "stream",
     "text": [
      "13\n"
     ]
    }
   ],
   "source": [
    "# classes\n",
    "\n",
    "class Dog:\n",
    "    \n",
    "    def __init__ (self, name, age, furcolor):\n",
    "        self.name = name\n",
    "        self.age = age\n",
    "        self.furcolor = furcolor\n",
    "    \n",
    "    def bark(self, str):\n",
    "        print(\"BARK!\" + str)\n",
    "        \n",
    "mydog = Dog(\"fido\", 13, \"Brown\")\n",
    "print(mydog.age)"
   ]
  }
 ],
 "metadata": {
  "kernelspec": {
   "display_name": "Python 3",
   "language": "python",
   "name": "python3"
  },
  "language_info": {
   "codemirror_mode": {
    "name": "ipython",
    "version": 3
   },
   "file_extension": ".py",
   "mimetype": "text/x-python",
   "name": "python",
   "nbconvert_exporter": "python",
   "pygments_lexer": "ipython3",
   "version": "3.7.3"
  }
 },
 "nbformat": 4,
 "nbformat_minor": 2
}
